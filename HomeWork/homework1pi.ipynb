{
 "cells": [
  {
   "cell_type": "code",
   "execution_count": null,
   "metadata": {},
   "outputs": [
    {
     "data": {
      "application/vnd.plotly.v1+json": {
       "config": {
        "plotlyServerURL": "https://plot.ly"
       },
       "data": [
        {
         "marker": {
          "color": [
           "red",
           "red",
           "blue",
           "blue",
           "red",
           "red",
           "red",
           "blue",
           "blue",
           "red",
           "red",
           "red",
           "red",
           "blue",
           "red",
           "red",
           "red",
           "red",
           "red",
           "red",
           "red",
           "red",
           "red",
           "blue",
           "red",
           "red",
           "blue",
           "red",
           "red",
           "red",
           "blue",
           "blue",
           "red",
           "red",
           "red",
           "red",
           "red",
           "red",
           "blue",
           "red",
           "red",
           "blue",
           "red",
           "red",
           "blue",
           "blue",
           "red",
           "blue",
           "blue",
           "red",
           "blue",
           "red",
           "red",
           "red",
           "red",
           "blue",
           "red",
           "red",
           "red",
           "red",
           "red",
           "red",
           "blue",
           "blue",
           "blue",
           "blue",
           "red",
           "red",
           "blue",
           "red",
           "blue",
           "blue",
           "red",
           "red",
           "red",
           "blue",
           "red",
           "blue",
           "red",
           "blue",
           "blue",
           "red",
           "red",
           "red",
           "red",
           "red",
           "red",
           "red",
           "blue",
           "red",
           "blue",
           "red",
           "red",
           "red",
           "red",
           "red",
           "red",
           "red",
           "red",
           "red",
           "red",
           "blue",
           "red",
           "red",
           "red",
           "red",
           "red",
           "red",
           "red",
           "red",
           "red",
           "blue",
           "red",
           "red",
           "red",
           "red",
           "red",
           "red",
           "red",
           "blue",
           "red",
           "red",
           "red",
           "red",
           "blue",
           "red",
           "red",
           "red",
           "red",
           "blue",
           "red",
           "red",
           "red",
           "red",
           "red",
           "red",
           "red",
           "red",
           "red",
           "red",
           "blue",
           "red",
           "blue",
           "red",
           "red",
           "red",
           "blue",
           "red",
           "red",
           "red",
           "red",
           "red",
           "red",
           "blue",
           "red",
           "blue",
           "red",
           "red",
           "blue",
           "red",
           "red",
           "red",
           "red",
           "red",
           "red",
           "red",
           "red",
           "red",
           "red",
           "blue",
           "blue",
           "blue",
           "blue",
           "red",
           "red",
           "red",
           "red",
           "blue",
           "red",
           "blue",
           "blue",
           "red",
           "red",
           "blue",
           "red",
           "red",
           "red",
           "red",
           "red",
           "red",
           "red",
           "red",
           "blue",
           "blue",
           "red",
           "red",
           "red",
           "red",
           "red",
           "red",
           "red",
           "red",
           "red",
           "red",
           "red",
           "red",
           "red",
           "red",
           "red",
           "red",
           "red",
           "red",
           "red",
           "red",
           "blue",
           "red",
           "red",
           "red",
           "red",
           "red",
           "red",
           "red",
           "red",
           "red",
           "red",
           "red",
           "red",
           "red",
           "red",
           "blue",
           "blue",
           "red",
           "blue",
           "blue",
           "red",
           "red",
           "red",
           "blue",
           "blue",
           "blue",
           "red",
           "red",
           "blue",
           "red",
           "red",
           "red",
           "red",
           "red",
           "red",
           "red",
           "red",
           "blue",
           "red",
           "red",
           "red",
           "red",
           "red",
           "red",
           "red",
           "red",
           "blue",
           "red",
           "red",
           "red",
           "red",
           "blue",
           "red",
           "red",
           "blue",
           "red",
           "red",
           "red",
           "red",
           "red",
           "red",
           "red",
           "red",
           "red",
           "red",
           "red",
           "red",
           "red",
           "blue",
           "red",
           "red",
           "red",
           "red",
           "red",
           "red",
           "red",
           "red",
           "red",
           "blue",
           "blue",
           "red",
           "red",
           "red",
           "blue",
           "red",
           "red",
           "red",
           "red",
           "blue",
           "blue",
           "blue",
           "red",
           "red",
           "blue",
           "red",
           "red",
           "red",
           "red",
           "blue",
           "red",
           "red",
           "red",
           "blue",
           "blue",
           "red",
           "red",
           "red",
           "blue",
           "red",
           "blue",
           "blue",
           "red",
           "red",
           "red",
           "red",
           "blue",
           "red",
           "red",
           "red",
           "red",
           "red",
           "red",
           "red",
           "red",
           "red",
           "blue",
           "red",
           "blue",
           "red",
           "blue",
           "red",
           "red",
           "red",
           "red",
           "red",
           "red",
           "red",
           "red",
           "red",
           "blue",
           "red",
           "red",
           "red",
           "red",
           "red",
           "red",
           "blue",
           "red",
           "red",
           "blue",
           "red",
           "red",
           "blue",
           "blue",
           "red",
           "red",
           "red",
           "red",
           "red",
           "red",
           "blue",
           "red",
           "red",
           "red",
           "red",
           "blue",
           "red",
           "red",
           "red",
           "red",
           "red",
           "red",
           "red",
           "blue",
           "blue",
           "red",
           "red",
           "red",
           "red",
           "red",
           "red",
           "blue",
           "red",
           "blue",
           "blue",
           "red",
           "red",
           "red",
           "blue",
           "red",
           "red",
           "red",
           "red",
           "red",
           "red",
           "red",
           "blue",
           "red",
           "blue",
           "red",
           "red",
           "red",
           "red",
           "red",
           "red",
           "red",
           "red",
           "red",
           "red",
           "red",
           "red",
           "blue",
           "red",
           "red",
           "red",
           "red",
           "red",
           "red",
           "red",
           "red",
           "blue",
           "blue",
           "red",
           "blue",
           "red",
           "blue",
           "red",
           "blue",
           "red",
           "blue",
           "red",
           "blue",
           "red",
           "red",
           "red",
           "red",
           "blue",
           "red",
           "red",
           "red",
           "blue",
           "red",
           "red",
           "red",
           "red",
           "red",
           "red",
           "red",
           "red",
           "red",
           "blue",
           "red",
           "red",
           "red",
           "blue",
           "red",
           "red",
           "blue",
           "red",
           "red",
           "blue",
           "red",
           "blue",
           "red",
           "red",
           "blue",
           "red",
           "blue",
           "red",
           "red",
           "red",
           "red",
           "blue",
           "red",
           "red",
           "red",
           "blue",
           "red",
           "red",
           "red",
           "red",
           "red",
           "red",
           "red",
           "red",
           "red",
           "blue",
           "red",
           "red",
           "red",
           "blue",
           "blue",
           "red",
           "blue",
           "red",
           "red",
           "red",
           "red",
           "red",
           "red",
           "blue",
           "red",
           "red",
           "red",
           "red",
           "red",
           "red",
           "blue",
           "red",
           "blue",
           "red",
           "red",
           "red",
           "red",
           "red",
           "red",
           "red",
           "red",
           "red",
           "red",
           "red",
           "red",
           "red",
           "red",
           "red",
           "red",
           "red",
           "red",
           "blue",
           "red",
           "red",
           "red",
           "red",
           "red",
           "red",
           "red",
           "red",
           "red",
           "red",
           "red",
           "red",
           "red",
           "red",
           "blue",
           "red",
           "red",
           "red",
           "red",
           "red",
           "red",
           "red",
           "red",
           "red",
           "blue",
           "red",
           "red",
           "blue",
           "red",
           "red",
           "blue",
           "red",
           "red",
           "blue",
           "red",
           "red",
           "red",
           "red",
           "blue",
           "red",
           "red",
           "red",
           "red",
           "red",
           "red",
           "red",
           "red",
           "blue",
           "blue",
           "red",
           "red",
           "blue",
           "red",
           "red",
           "blue",
           "red",
           "blue",
           "red",
           "red",
           "blue",
           "red",
           "red",
           "red",
           "red",
           "red",
           "blue",
           "red",
           "red",
           "red",
           "red",
           "red",
           "red",
           "red",
           "blue",
           "blue",
           "red",
           "red",
           "red",
           "red",
           "blue",
           "blue",
           "red",
           "red",
           "red",
           "red",
           "red",
           "red",
           "red",
           "red",
           "red",
           "red",
           "red",
           "red",
           "red",
           "red",
           "red",
           "blue",
           "red",
           "red",
           "red",
           "red",
           "blue",
           "red",
           "red",
           "red",
           "blue",
           "red",
           "blue",
           "red",
           "red",
           "red",
           "red",
           "blue",
           "red",
           "red",
           "blue",
           "red",
           "red",
           "red",
           "red",
           "red",
           "red",
           "red",
           "blue",
           "blue",
           "red",
           "blue",
           "red",
           "red",
           "red",
           "blue",
           "red",
           "red",
           "blue",
           "red",
           "red",
           "blue",
           "blue",
           "red",
           "red",
           "red",
           "blue",
           "red",
           "blue",
           "red",
           "red",
           "red",
           "red",
           "red",
           "blue",
           "red",
           "red",
           "red",
           "red",
           "red",
           "red",
           "red",
           "red",
           "blue",
           "red",
           "red",
           "red",
           "red",
           "red",
           "red",
           "blue",
           "red",
           "red",
           "blue",
           "red",
           "red",
           "red",
           "red",
           "red",
           "red",
           "red",
           "red",
           "blue",
           "red",
           "red",
           "red",
           "blue",
           "red",
           "blue",
           "red",
           "red",
           "red",
           "red",
           "blue",
           "red",
           "blue",
           "blue",
           "red",
           "red",
           "red",
           "red",
           "red",
           "red",
           "red",
           "red",
           "red",
           "red",
           "blue",
           "blue",
           "red",
           "red",
           "blue",
           "blue",
           "red",
           "red",
           "red",
           "red",
           "blue",
           "red",
           "blue",
           "red",
           "red",
           "red",
           "red",
           "red",
           "blue",
           "red",
           "red",
           "red",
           "blue",
           "red",
           "red",
           "red",
           "red",
           "blue",
           "red",
           "red",
           "blue",
           "red",
           "red",
           "red",
           "blue",
           "blue",
           "red",
           "red",
           "red",
           "red",
           "red",
           "red",
           "red",
           "red",
           "blue",
           "red",
           "red",
           "red",
           "blue",
           "red",
           "red",
           "red",
           "red",
           "blue",
           "blue",
           "red",
           "blue",
           "red",
           "red",
           "red",
           "red",
           "red",
           "red",
           "blue",
           "red",
           "red",
           "red",
           "red",
           "red",
           "blue",
           "red",
           "blue",
           "red",
           "red",
           "red",
           "red",
           "red",
           "red",
           "red",
           "red",
           "red",
           "blue",
           "red",
           "red",
           "red",
           "red",
           "red",
           "red",
           "red",
           "red",
           "red",
           "red",
           "red",
           "red",
           "red",
           "red",
           "blue",
           "blue",
           "red",
           "red",
           "red",
           "red",
           "red",
           "blue",
           "red",
           "red",
           "red",
           "red",
           "red",
           "red",
           "red",
           "red",
           "red",
           "red",
           "red",
           "red",
           "red",
           "red",
           "blue",
           "red",
           "red",
           "red",
           "blue",
           "red",
           "red",
           "red",
           "red",
           "red",
           "blue",
           "blue",
           "red",
           "red",
           "blue",
           "red",
           "blue",
           "red",
           "red",
           "red",
           "red",
           "red",
           "red",
           "blue",
           "red",
           "blue",
           "red",
           "blue",
           "blue",
           "blue",
           "red",
           "red",
           "red",
           "red",
           "red",
           "red",
           "red",
           "blue",
           "red",
           "red",
           "red",
           "red",
           "red",
           "red",
           "blue",
           "red",
           "red",
           "red",
           "red",
           "red",
           "red",
           "blue",
           "blue",
           "red",
           "blue",
           "red",
           "red",
           "red",
           "red",
           "red",
           "red",
           "red",
           "red",
           "red",
           "red",
           "blue",
           "red",
           "red",
           "blue",
           "red",
           "red",
           "red",
           "red",
           "red",
           "red",
           "red",
           "red",
           "red",
           "red",
           "red",
           "red",
           "red",
           "red",
           "blue",
           "red",
           "red",
           "red",
           "red",
           "red",
           "red",
           "blue",
           "red",
           "red",
           "blue",
           "red",
           "red",
           "blue",
           "red",
           "blue",
           "red",
           "red",
           "red",
           "red",
           "blue",
           "red",
           "red",
           "blue",
           "red",
           "red",
           "red",
           "blue",
           "blue",
           "red",
           "blue",
           "red",
           "red",
           "red",
           "red",
           "red",
           "blue",
           "red",
           "blue",
           "red",
           "red",
           "blue",
           "red",
           "red",
           "red",
           "blue",
           "red",
           "red",
           "red",
           "red",
           "blue",
           "red",
           "blue",
           "red"
          ],
          "size": 3
         },
         "mode": "markers",
         "type": "scatter",
         "x": {
          "bdata": "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",
          "dtype": "f8"
         },
         "y": {
          "bdata": "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",
          "dtype": "f8"
         }
        }
       ],
       "layout": {
        "shapes": [
         {
          "line": {
           "color": "red"
          },
          "type": "circle",
          "x0": -1,
          "x1": 1,
          "xref": "x",
          "y0": -1,
          "y1": 1,
          "yref": "y"
         },
         {
          "line": {
           "color": "blue"
          },
          "type": "rect",
          "x0": -1,
          "x1": 1,
          "xref": "x",
          "y0": -1,
          "y1": 1,
          "yref": "y"
         }
        ],
        "template": {
         "data": {
          "bar": [
           {
            "error_x": {
             "color": "#2a3f5f"
            },
            "error_y": {
             "color": "#2a3f5f"
            },
            "marker": {
             "line": {
              "color": "#E5ECF6",
              "width": 0.5
             },
             "pattern": {
              "fillmode": "overlay",
              "size": 10,
              "solidity": 0.2
             }
            },
            "type": "bar"
           }
          ],
          "barpolar": [
           {
            "marker": {
             "line": {
              "color": "#E5ECF6",
              "width": 0.5
             },
             "pattern": {
              "fillmode": "overlay",
              "size": 10,
              "solidity": 0.2
             }
            },
            "type": "barpolar"
           }
          ],
          "carpet": [
           {
            "aaxis": {
             "endlinecolor": "#2a3f5f",
             "gridcolor": "white",
             "linecolor": "white",
             "minorgridcolor": "white",
             "startlinecolor": "#2a3f5f"
            },
            "baxis": {
             "endlinecolor": "#2a3f5f",
             "gridcolor": "white",
             "linecolor": "white",
             "minorgridcolor": "white",
             "startlinecolor": "#2a3f5f"
            },
            "type": "carpet"
           }
          ],
          "choropleth": [
           {
            "colorbar": {
             "outlinewidth": 0,
             "ticks": ""
            },
            "type": "choropleth"
           }
          ],
          "contour": [
           {
            "colorbar": {
             "outlinewidth": 0,
             "ticks": ""
            },
            "colorscale": [
             [
              0,
              "#0d0887"
             ],
             [
              0.1111111111111111,
              "#46039f"
             ],
             [
              0.2222222222222222,
              "#7201a8"
             ],
             [
              0.3333333333333333,
              "#9c179e"
             ],
             [
              0.4444444444444444,
              "#bd3786"
             ],
             [
              0.5555555555555556,
              "#d8576b"
             ],
             [
              0.6666666666666666,
              "#ed7953"
             ],
             [
              0.7777777777777778,
              "#fb9f3a"
             ],
             [
              0.8888888888888888,
              "#fdca26"
             ],
             [
              1,
              "#f0f921"
             ]
            ],
            "type": "contour"
           }
          ],
          "contourcarpet": [
           {
            "colorbar": {
             "outlinewidth": 0,
             "ticks": ""
            },
            "type": "contourcarpet"
           }
          ],
          "heatmap": [
           {
            "colorbar": {
             "outlinewidth": 0,
             "ticks": ""
            },
            "colorscale": [
             [
              0,
              "#0d0887"
             ],
             [
              0.1111111111111111,
              "#46039f"
             ],
             [
              0.2222222222222222,
              "#7201a8"
             ],
             [
              0.3333333333333333,
              "#9c179e"
             ],
             [
              0.4444444444444444,
              "#bd3786"
             ],
             [
              0.5555555555555556,
              "#d8576b"
             ],
             [
              0.6666666666666666,
              "#ed7953"
             ],
             [
              0.7777777777777778,
              "#fb9f3a"
             ],
             [
              0.8888888888888888,
              "#fdca26"
             ],
             [
              1,
              "#f0f921"
             ]
            ],
            "type": "heatmap"
           }
          ],
          "histogram": [
           {
            "marker": {
             "pattern": {
              "fillmode": "overlay",
              "size": 10,
              "solidity": 0.2
             }
            },
            "type": "histogram"
           }
          ],
          "histogram2d": [
           {
            "colorbar": {
             "outlinewidth": 0,
             "ticks": ""
            },
            "colorscale": [
             [
              0,
              "#0d0887"
             ],
             [
              0.1111111111111111,
              "#46039f"
             ],
             [
              0.2222222222222222,
              "#7201a8"
             ],
             [
              0.3333333333333333,
              "#9c179e"
             ],
             [
              0.4444444444444444,
              "#bd3786"
             ],
             [
              0.5555555555555556,
              "#d8576b"
             ],
             [
              0.6666666666666666,
              "#ed7953"
             ],
             [
              0.7777777777777778,
              "#fb9f3a"
             ],
             [
              0.8888888888888888,
              "#fdca26"
             ],
             [
              1,
              "#f0f921"
             ]
            ],
            "type": "histogram2d"
           }
          ],
          "histogram2dcontour": [
           {
            "colorbar": {
             "outlinewidth": 0,
             "ticks": ""
            },
            "colorscale": [
             [
              0,
              "#0d0887"
             ],
             [
              0.1111111111111111,
              "#46039f"
             ],
             [
              0.2222222222222222,
              "#7201a8"
             ],
             [
              0.3333333333333333,
              "#9c179e"
             ],
             [
              0.4444444444444444,
              "#bd3786"
             ],
             [
              0.5555555555555556,
              "#d8576b"
             ],
             [
              0.6666666666666666,
              "#ed7953"
             ],
             [
              0.7777777777777778,
              "#fb9f3a"
             ],
             [
              0.8888888888888888,
              "#fdca26"
             ],
             [
              1,
              "#f0f921"
             ]
            ],
            "type": "histogram2dcontour"
           }
          ],
          "mesh3d": [
           {
            "colorbar": {
             "outlinewidth": 0,
             "ticks": ""
            },
            "type": "mesh3d"
           }
          ],
          "parcoords": [
           {
            "line": {
             "colorbar": {
              "outlinewidth": 0,
              "ticks": ""
             }
            },
            "type": "parcoords"
           }
          ],
          "pie": [
           {
            "automargin": true,
            "type": "pie"
           }
          ],
          "scatter": [
           {
            "fillpattern": {
             "fillmode": "overlay",
             "size": 10,
             "solidity": 0.2
            },
            "type": "scatter"
           }
          ],
          "scatter3d": [
           {
            "line": {
             "colorbar": {
              "outlinewidth": 0,
              "ticks": ""
             }
            },
            "marker": {
             "colorbar": {
              "outlinewidth": 0,
              "ticks": ""
             }
            },
            "type": "scatter3d"
           }
          ],
          "scattercarpet": [
           {
            "marker": {
             "colorbar": {
              "outlinewidth": 0,
              "ticks": ""
             }
            },
            "type": "scattercarpet"
           }
          ],
          "scattergeo": [
           {
            "marker": {
             "colorbar": {
              "outlinewidth": 0,
              "ticks": ""
             }
            },
            "type": "scattergeo"
           }
          ],
          "scattergl": [
           {
            "marker": {
             "colorbar": {
              "outlinewidth": 0,
              "ticks": ""
             }
            },
            "type": "scattergl"
           }
          ],
          "scattermap": [
           {
            "marker": {
             "colorbar": {
              "outlinewidth": 0,
              "ticks": ""
             }
            },
            "type": "scattermap"
           }
          ],
          "scattermapbox": [
           {
            "marker": {
             "colorbar": {
              "outlinewidth": 0,
              "ticks": ""
             }
            },
            "type": "scattermapbox"
           }
          ],
          "scatterpolar": [
           {
            "marker": {
             "colorbar": {
              "outlinewidth": 0,
              "ticks": ""
             }
            },
            "type": "scatterpolar"
           }
          ],
          "scatterpolargl": [
           {
            "marker": {
             "colorbar": {
              "outlinewidth": 0,
              "ticks": ""
             }
            },
            "type": "scatterpolargl"
           }
          ],
          "scatterternary": [
           {
            "marker": {
             "colorbar": {
              "outlinewidth": 0,
              "ticks": ""
             }
            },
            "type": "scatterternary"
           }
          ],
          "surface": [
           {
            "colorbar": {
             "outlinewidth": 0,
             "ticks": ""
            },
            "colorscale": [
             [
              0,
              "#0d0887"
             ],
             [
              0.1111111111111111,
              "#46039f"
             ],
             [
              0.2222222222222222,
              "#7201a8"
             ],
             [
              0.3333333333333333,
              "#9c179e"
             ],
             [
              0.4444444444444444,
              "#bd3786"
             ],
             [
              0.5555555555555556,
              "#d8576b"
             ],
             [
              0.6666666666666666,
              "#ed7953"
             ],
             [
              0.7777777777777778,
              "#fb9f3a"
             ],
             [
              0.8888888888888888,
              "#fdca26"
             ],
             [
              1,
              "#f0f921"
             ]
            ],
            "type": "surface"
           }
          ],
          "table": [
           {
            "cells": {
             "fill": {
              "color": "#EBF0F8"
             },
             "line": {
              "color": "white"
             }
            },
            "header": {
             "fill": {
              "color": "#C8D4E3"
             },
             "line": {
              "color": "white"
             }
            },
            "type": "table"
           }
          ]
         },
         "layout": {
          "annotationdefaults": {
           "arrowcolor": "#2a3f5f",
           "arrowhead": 0,
           "arrowwidth": 1
          },
          "autotypenumbers": "strict",
          "coloraxis": {
           "colorbar": {
            "outlinewidth": 0,
            "ticks": ""
           }
          },
          "colorscale": {
           "diverging": [
            [
             0,
             "#8e0152"
            ],
            [
             0.1,
             "#c51b7d"
            ],
            [
             0.2,
             "#de77ae"
            ],
            [
             0.3,
             "#f1b6da"
            ],
            [
             0.4,
             "#fde0ef"
            ],
            [
             0.5,
             "#f7f7f7"
            ],
            [
             0.6,
             "#e6f5d0"
            ],
            [
             0.7,
             "#b8e186"
            ],
            [
             0.8,
             "#7fbc41"
            ],
            [
             0.9,
             "#4d9221"
            ],
            [
             1,
             "#276419"
            ]
           ],
           "sequential": [
            [
             0,
             "#0d0887"
            ],
            [
             0.1111111111111111,
             "#46039f"
            ],
            [
             0.2222222222222222,
             "#7201a8"
            ],
            [
             0.3333333333333333,
             "#9c179e"
            ],
            [
             0.4444444444444444,
             "#bd3786"
            ],
            [
             0.5555555555555556,
             "#d8576b"
            ],
            [
             0.6666666666666666,
             "#ed7953"
            ],
            [
             0.7777777777777778,
             "#fb9f3a"
            ],
            [
             0.8888888888888888,
             "#fdca26"
            ],
            [
             1,
             "#f0f921"
            ]
           ],
           "sequentialminus": [
            [
             0,
             "#0d0887"
            ],
            [
             0.1111111111111111,
             "#46039f"
            ],
            [
             0.2222222222222222,
             "#7201a8"
            ],
            [
             0.3333333333333333,
             "#9c179e"
            ],
            [
             0.4444444444444444,
             "#bd3786"
            ],
            [
             0.5555555555555556,
             "#d8576b"
            ],
            [
             0.6666666666666666,
             "#ed7953"
            ],
            [
             0.7777777777777778,
             "#fb9f3a"
            ],
            [
             0.8888888888888888,
             "#fdca26"
            ],
            [
             1,
             "#f0f921"
            ]
           ]
          },
          "colorway": [
           "#636efa",
           "#EF553B",
           "#00cc96",
           "#ab63fa",
           "#FFA15A",
           "#19d3f3",
           "#FF6692",
           "#B6E880",
           "#FF97FF",
           "#FECB52"
          ],
          "font": {
           "color": "#2a3f5f"
          },
          "geo": {
           "bgcolor": "white",
           "lakecolor": "white",
           "landcolor": "#E5ECF6",
           "showlakes": true,
           "showland": true,
           "subunitcolor": "white"
          },
          "hoverlabel": {
           "align": "left"
          },
          "hovermode": "closest",
          "mapbox": {
           "style": "light"
          },
          "paper_bgcolor": "white",
          "plot_bgcolor": "#E5ECF6",
          "polar": {
           "angularaxis": {
            "gridcolor": "white",
            "linecolor": "white",
            "ticks": ""
           },
           "bgcolor": "#E5ECF6",
           "radialaxis": {
            "gridcolor": "white",
            "linecolor": "white",
            "ticks": ""
           }
          },
          "scene": {
           "xaxis": {
            "backgroundcolor": "#E5ECF6",
            "gridcolor": "white",
            "gridwidth": 2,
            "linecolor": "white",
            "showbackground": true,
            "ticks": "",
            "zerolinecolor": "white"
           },
           "yaxis": {
            "backgroundcolor": "#E5ECF6",
            "gridcolor": "white",
            "gridwidth": 2,
            "linecolor": "white",
            "showbackground": true,
            "ticks": "",
            "zerolinecolor": "white"
           },
           "zaxis": {
            "backgroundcolor": "#E5ECF6",
            "gridcolor": "white",
            "gridwidth": 2,
            "linecolor": "white",
            "showbackground": true,
            "ticks": "",
            "zerolinecolor": "white"
           }
          },
          "shapedefaults": {
           "line": {
            "color": "#2a3f5f"
           }
          },
          "ternary": {
           "aaxis": {
            "gridcolor": "white",
            "linecolor": "white",
            "ticks": ""
           },
           "baxis": {
            "gridcolor": "white",
            "linecolor": "white",
            "ticks": ""
           },
           "bgcolor": "#E5ECF6",
           "caxis": {
            "gridcolor": "white",
            "linecolor": "white",
            "ticks": ""
           }
          },
          "title": {
           "x": 0.05
          },
          "xaxis": {
           "automargin": true,
           "gridcolor": "white",
           "linecolor": "white",
           "ticks": "",
           "title": {
            "standoff": 15
           },
           "zerolinecolor": "white",
           "zerolinewidth": 2
          },
          "yaxis": {
           "automargin": true,
           "gridcolor": "white",
           "linecolor": "white",
           "ticks": "",
           "title": {
            "standoff": 15
           },
           "zerolinecolor": "white",
           "zerolinewidth": 2
          }
         }
        },
        "yaxis": {
         "scaleanchor": "x",
         "scaleratio": 1
        }
       }
      }
     },
     "metadata": {},
     "output_type": "display_data"
    }
   ],
   "source": [
    "import plotly.graph_objects as go\n",
    "import pandas as pd\n",
    "import numpy as np\n",
    "def createFrame(n) :\n",
    "    np.random.seed(314159)\n",
    "    darts = np.random.uniform(-1, 1, (n,2)) #x & y coordinate guesses\n",
    "    inCircle = np.sum(np.square(darts), axis=1)<1 #returns true or false if guess in circle\n",
    "\n",
    "    rollingEst = 4*np.cumsum(inCircle[1:])/np.arange(1,n) #calculates a rolling estimate of pi\n",
    "    rollingEst = np.insert(rollingEst,0,0) #adding 0 as first value to avoid dividing by 0\n",
    "\n",
    "    data = {'x':darts[:,0],'y':darts[:,1],'In Circle?':inCircle,'Rolling Est':rollingEst}\n",
    "    df = pd.DataFrame(data)\n",
    "    \n",
    "    return df\n",
    "#La presentation graphique\n",
    "\n",
    "df = createFrame(1000)\n",
    "\n",
    "fig = go.Figure(data=go.Scatter(\n",
    "    x = df['x'],\n",
    "    y = df['y'],\n",
    "    mode='markers',\n",
    "    marker=dict(\n",
    "        color=np.where(df['In Circle?'],'red','blue'),\n",
    "        size = 3\n",
    "        )\n",
    "    )\n",
    ")\n",
    "\n",
    "fig.add_shape(type=\"circle\",\n",
    "    xref=\"x\", yref=\"y\",\n",
    "    x0=-1, y0=-1, x1=1, y1=1,\n",
    "    line_color=\"red\",\n",
    ")\n",
    "\n",
    "fig.add_shape(type=\"rect\",\n",
    "    xref=\"x\", yref=\"y\",\n",
    "    x0=-1, y0=-1,\n",
    "    x1=1, y1=1,\n",
    "    line_color=\"blue\"\n",
    ")\n",
    "\n",
    "fig.update_yaxes(\n",
    "    scaleanchor = \"x\",\n",
    "    scaleratio = 1,\n",
    ")\n",
    "\n",
    "fig.show()"
   ]
  },
  {
   "cell_type": "code",
   "execution_count": 2,
   "metadata": {},
   "outputs": [
    {
     "data": {
      "application/vnd.plotly.v1+json": {
       "config": {
        "plotlyServerURL": "https://plot.ly"
       },
       "data": [
        {
         "mode": "lines",
         "name": "estimate",
         "type": "scatter",
         "x": {
          "bdata": "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",
          "dtype": "i2"
         },
         "y": {
          "bdata": "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",
          "dtype": "f8"
         }
        }
       ],
       "layout": {
        "hovermode": "x unified",
        "shapes": [
         {
          "line": {
           "color": "green",
           "dash": "dash",
           "width": 1
          },
          "name": "pi",
          "type": "line",
          "x0": 0,
          "x1": 1,
          "xref": "x domain",
          "y0": 3.141592653589793,
          "y1": 3.141592653589793,
          "yref": "y"
         }
        ],
        "template": {
         "data": {
          "bar": [
           {
            "error_x": {
             "color": "#2a3f5f"
            },
            "error_y": {
             "color": "#2a3f5f"
            },
            "marker": {
             "line": {
              "color": "#E5ECF6",
              "width": 0.5
             },
             "pattern": {
              "fillmode": "overlay",
              "size": 10,
              "solidity": 0.2
             }
            },
            "type": "bar"
           }
          ],
          "barpolar": [
           {
            "marker": {
             "line": {
              "color": "#E5ECF6",
              "width": 0.5
             },
             "pattern": {
              "fillmode": "overlay",
              "size": 10,
              "solidity": 0.2
             }
            },
            "type": "barpolar"
           }
          ],
          "carpet": [
           {
            "aaxis": {
             "endlinecolor": "#2a3f5f",
             "gridcolor": "white",
             "linecolor": "white",
             "minorgridcolor": "white",
             "startlinecolor": "#2a3f5f"
            },
            "baxis": {
             "endlinecolor": "#2a3f5f",
             "gridcolor": "white",
             "linecolor": "white",
             "minorgridcolor": "white",
             "startlinecolor": "#2a3f5f"
            },
            "type": "carpet"
           }
          ],
          "choropleth": [
           {
            "colorbar": {
             "outlinewidth": 0,
             "ticks": ""
            },
            "type": "choropleth"
           }
          ],
          "contour": [
           {
            "colorbar": {
             "outlinewidth": 0,
             "ticks": ""
            },
            "colorscale": [
             [
              0,
              "#0d0887"
             ],
             [
              0.1111111111111111,
              "#46039f"
             ],
             [
              0.2222222222222222,
              "#7201a8"
             ],
             [
              0.3333333333333333,
              "#9c179e"
             ],
             [
              0.4444444444444444,
              "#bd3786"
             ],
             [
              0.5555555555555556,
              "#d8576b"
             ],
             [
              0.6666666666666666,
              "#ed7953"
             ],
             [
              0.7777777777777778,
              "#fb9f3a"
             ],
             [
              0.8888888888888888,
              "#fdca26"
             ],
             [
              1,
              "#f0f921"
             ]
            ],
            "type": "contour"
           }
          ],
          "contourcarpet": [
           {
            "colorbar": {
             "outlinewidth": 0,
             "ticks": ""
            },
            "type": "contourcarpet"
           }
          ],
          "heatmap": [
           {
            "colorbar": {
             "outlinewidth": 0,
             "ticks": ""
            },
            "colorscale": [
             [
              0,
              "#0d0887"
             ],
             [
              0.1111111111111111,
              "#46039f"
             ],
             [
              0.2222222222222222,
              "#7201a8"
             ],
             [
              0.3333333333333333,
              "#9c179e"
             ],
             [
              0.4444444444444444,
              "#bd3786"
             ],
             [
              0.5555555555555556,
              "#d8576b"
             ],
             [
              0.6666666666666666,
              "#ed7953"
             ],
             [
              0.7777777777777778,
              "#fb9f3a"
             ],
             [
              0.8888888888888888,
              "#fdca26"
             ],
             [
              1,
              "#f0f921"
             ]
            ],
            "type": "heatmap"
           }
          ],
          "histogram": [
           {
            "marker": {
             "pattern": {
              "fillmode": "overlay",
              "size": 10,
              "solidity": 0.2
             }
            },
            "type": "histogram"
           }
          ],
          "histogram2d": [
           {
            "colorbar": {
             "outlinewidth": 0,
             "ticks": ""
            },
            "colorscale": [
             [
              0,
              "#0d0887"
             ],
             [
              0.1111111111111111,
              "#46039f"
             ],
             [
              0.2222222222222222,
              "#7201a8"
             ],
             [
              0.3333333333333333,
              "#9c179e"
             ],
             [
              0.4444444444444444,
              "#bd3786"
             ],
             [
              0.5555555555555556,
              "#d8576b"
             ],
             [
              0.6666666666666666,
              "#ed7953"
             ],
             [
              0.7777777777777778,
              "#fb9f3a"
             ],
             [
              0.8888888888888888,
              "#fdca26"
             ],
             [
              1,
              "#f0f921"
             ]
            ],
            "type": "histogram2d"
           }
          ],
          "histogram2dcontour": [
           {
            "colorbar": {
             "outlinewidth": 0,
             "ticks": ""
            },
            "colorscale": [
             [
              0,
              "#0d0887"
             ],
             [
              0.1111111111111111,
              "#46039f"
             ],
             [
              0.2222222222222222,
              "#7201a8"
             ],
             [
              0.3333333333333333,
              "#9c179e"
             ],
             [
              0.4444444444444444,
              "#bd3786"
             ],
             [
              0.5555555555555556,
              "#d8576b"
             ],
             [
              0.6666666666666666,
              "#ed7953"
             ],
             [
              0.7777777777777778,
              "#fb9f3a"
             ],
             [
              0.8888888888888888,
              "#fdca26"
             ],
             [
              1,
              "#f0f921"
             ]
            ],
            "type": "histogram2dcontour"
           }
          ],
          "mesh3d": [
           {
            "colorbar": {
             "outlinewidth": 0,
             "ticks": ""
            },
            "type": "mesh3d"
           }
          ],
          "parcoords": [
           {
            "line": {
             "colorbar": {
              "outlinewidth": 0,
              "ticks": ""
             }
            },
            "type": "parcoords"
           }
          ],
          "pie": [
           {
            "automargin": true,
            "type": "pie"
           }
          ],
          "scatter": [
           {
            "fillpattern": {
             "fillmode": "overlay",
             "size": 10,
             "solidity": 0.2
            },
            "type": "scatter"
           }
          ],
          "scatter3d": [
           {
            "line": {
             "colorbar": {
              "outlinewidth": 0,
              "ticks": ""
             }
            },
            "marker": {
             "colorbar": {
              "outlinewidth": 0,
              "ticks": ""
             }
            },
            "type": "scatter3d"
           }
          ],
          "scattercarpet": [
           {
            "marker": {
             "colorbar": {
              "outlinewidth": 0,
              "ticks": ""
             }
            },
            "type": "scattercarpet"
           }
          ],
          "scattergeo": [
           {
            "marker": {
             "colorbar": {
              "outlinewidth": 0,
              "ticks": ""
             }
            },
            "type": "scattergeo"
           }
          ],
          "scattergl": [
           {
            "marker": {
             "colorbar": {
              "outlinewidth": 0,
              "ticks": ""
             }
            },
            "type": "scattergl"
           }
          ],
          "scattermap": [
           {
            "marker": {
             "colorbar": {
              "outlinewidth": 0,
              "ticks": ""
             }
            },
            "type": "scattermap"
           }
          ],
          "scattermapbox": [
           {
            "marker": {
             "colorbar": {
              "outlinewidth": 0,
              "ticks": ""
             }
            },
            "type": "scattermapbox"
           }
          ],
          "scatterpolar": [
           {
            "marker": {
             "colorbar": {
              "outlinewidth": 0,
              "ticks": ""
             }
            },
            "type": "scatterpolar"
           }
          ],
          "scatterpolargl": [
           {
            "marker": {
             "colorbar": {
              "outlinewidth": 0,
              "ticks": ""
             }
            },
            "type": "scatterpolargl"
           }
          ],
          "scatterternary": [
           {
            "marker": {
             "colorbar": {
              "outlinewidth": 0,
              "ticks": ""
             }
            },
            "type": "scatterternary"
           }
          ],
          "surface": [
           {
            "colorbar": {
             "outlinewidth": 0,
             "ticks": ""
            },
            "colorscale": [
             [
              0,
              "#0d0887"
             ],
             [
              0.1111111111111111,
              "#46039f"
             ],
             [
              0.2222222222222222,
              "#7201a8"
             ],
             [
              0.3333333333333333,
              "#9c179e"
             ],
             [
              0.4444444444444444,
              "#bd3786"
             ],
             [
              0.5555555555555556,
              "#d8576b"
             ],
             [
              0.6666666666666666,
              "#ed7953"
             ],
             [
              0.7777777777777778,
              "#fb9f3a"
             ],
             [
              0.8888888888888888,
              "#fdca26"
             ],
             [
              1,
              "#f0f921"
             ]
            ],
            "type": "surface"
           }
          ],
          "table": [
           {
            "cells": {
             "fill": {
              "color": "#EBF0F8"
             },
             "line": {
              "color": "white"
             }
            },
            "header": {
             "fill": {
              "color": "#C8D4E3"
             },
             "line": {
              "color": "white"
             }
            },
            "type": "table"
           }
          ]
         },
         "layout": {
          "annotationdefaults": {
           "arrowcolor": "#2a3f5f",
           "arrowhead": 0,
           "arrowwidth": 1
          },
          "autotypenumbers": "strict",
          "coloraxis": {
           "colorbar": {
            "outlinewidth": 0,
            "ticks": ""
           }
          },
          "colorscale": {
           "diverging": [
            [
             0,
             "#8e0152"
            ],
            [
             0.1,
             "#c51b7d"
            ],
            [
             0.2,
             "#de77ae"
            ],
            [
             0.3,
             "#f1b6da"
            ],
            [
             0.4,
             "#fde0ef"
            ],
            [
             0.5,
             "#f7f7f7"
            ],
            [
             0.6,
             "#e6f5d0"
            ],
            [
             0.7,
             "#b8e186"
            ],
            [
             0.8,
             "#7fbc41"
            ],
            [
             0.9,
             "#4d9221"
            ],
            [
             1,
             "#276419"
            ]
           ],
           "sequential": [
            [
             0,
             "#0d0887"
            ],
            [
             0.1111111111111111,
             "#46039f"
            ],
            [
             0.2222222222222222,
             "#7201a8"
            ],
            [
             0.3333333333333333,
             "#9c179e"
            ],
            [
             0.4444444444444444,
             "#bd3786"
            ],
            [
             0.5555555555555556,
             "#d8576b"
            ],
            [
             0.6666666666666666,
             "#ed7953"
            ],
            [
             0.7777777777777778,
             "#fb9f3a"
            ],
            [
             0.8888888888888888,
             "#fdca26"
            ],
            [
             1,
             "#f0f921"
            ]
           ],
           "sequentialminus": [
            [
             0,
             "#0d0887"
            ],
            [
             0.1111111111111111,
             "#46039f"
            ],
            [
             0.2222222222222222,
             "#7201a8"
            ],
            [
             0.3333333333333333,
             "#9c179e"
            ],
            [
             0.4444444444444444,
             "#bd3786"
            ],
            [
             0.5555555555555556,
             "#d8576b"
            ],
            [
             0.6666666666666666,
             "#ed7953"
            ],
            [
             0.7777777777777778,
             "#fb9f3a"
            ],
            [
             0.8888888888888888,
             "#fdca26"
            ],
            [
             1,
             "#f0f921"
            ]
           ]
          },
          "colorway": [
           "#636efa",
           "#EF553B",
           "#00cc96",
           "#ab63fa",
           "#FFA15A",
           "#19d3f3",
           "#FF6692",
           "#B6E880",
           "#FF97FF",
           "#FECB52"
          ],
          "font": {
           "color": "#2a3f5f"
          },
          "geo": {
           "bgcolor": "white",
           "lakecolor": "white",
           "landcolor": "#E5ECF6",
           "showlakes": true,
           "showland": true,
           "subunitcolor": "white"
          },
          "hoverlabel": {
           "align": "left"
          },
          "hovermode": "closest",
          "mapbox": {
           "style": "light"
          },
          "paper_bgcolor": "white",
          "plot_bgcolor": "#E5ECF6",
          "polar": {
           "angularaxis": {
            "gridcolor": "white",
            "linecolor": "white",
            "ticks": ""
           },
           "bgcolor": "#E5ECF6",
           "radialaxis": {
            "gridcolor": "white",
            "linecolor": "white",
            "ticks": ""
           }
          },
          "scene": {
           "xaxis": {
            "backgroundcolor": "#E5ECF6",
            "gridcolor": "white",
            "gridwidth": 2,
            "linecolor": "white",
            "showbackground": true,
            "ticks": "",
            "zerolinecolor": "white"
           },
           "yaxis": {
            "backgroundcolor": "#E5ECF6",
            "gridcolor": "white",
            "gridwidth": 2,
            "linecolor": "white",
            "showbackground": true,
            "ticks": "",
            "zerolinecolor": "white"
           },
           "zaxis": {
            "backgroundcolor": "#E5ECF6",
            "gridcolor": "white",
            "gridwidth": 2,
            "linecolor": "white",
            "showbackground": true,
            "ticks": "",
            "zerolinecolor": "white"
           }
          },
          "shapedefaults": {
           "line": {
            "color": "#2a3f5f"
           }
          },
          "ternary": {
           "aaxis": {
            "gridcolor": "white",
            "linecolor": "white",
            "ticks": ""
           },
           "baxis": {
            "gridcolor": "white",
            "linecolor": "white",
            "ticks": ""
           },
           "bgcolor": "#E5ECF6",
           "caxis": {
            "gridcolor": "white",
            "linecolor": "white",
            "ticks": ""
           }
          },
          "title": {
           "x": 0.05
          },
          "xaxis": {
           "automargin": true,
           "gridcolor": "white",
           "linecolor": "white",
           "ticks": "",
           "title": {
            "standoff": 15
           },
           "zerolinecolor": "white",
           "zerolinewidth": 2
          },
          "yaxis": {
           "automargin": true,
           "gridcolor": "white",
           "linecolor": "white",
           "ticks": "",
           "title": {
            "standoff": 15
           },
           "zerolinecolor": "white",
           "zerolinewidth": 2
          }
         }
        },
        "xaxis": {
         "title": {
          "text": "Number of darts"
         }
        },
        "yaxis": {
         "title": {
          "text": "Value"
         }
        }
       }
      }
     },
     "metadata": {},
     "output_type": "display_data"
    }
   ],
   "source": [
    "import math\n",
    "fig = go.Figure()\n",
    "\n",
    "fig.add_trace(go.Scatter(x=df.index, y=df['Rolling Est'], mode='lines',name = 'estimate'))\n",
    "\n",
    "fig.add_hline(y=math.pi, line_width=1, line_dash=\"dash\", line_color=\"green\", name = 'pi')\n",
    "\n",
    "fig.update_layout(\n",
    "    xaxis_title=\"Number of darts\",\n",
    "    yaxis_title=\"Value\",\n",
    "    hovermode=\"x unified\"\n",
    ")\n",
    "\n",
    "fig.show()"
   ]
  }
 ],
 "metadata": {
  "kernelspec": {
   "display_name": "Python 3",
   "language": "python",
   "name": "python3"
  },
  "language_info": {
   "codemirror_mode": {
    "name": "ipython",
    "version": 3
   },
   "file_extension": ".py",
   "mimetype": "text/x-python",
   "name": "python",
   "nbconvert_exporter": "python",
   "pygments_lexer": "ipython3",
   "version": "3.10.11"
  }
 },
 "nbformat": 4,
 "nbformat_minor": 2
}
