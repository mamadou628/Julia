{
 "cells": [
  {
   "cell_type": "code",
   "execution_count": 6,
   "id": "031c001f",
   "metadata": {},
   "outputs": [
    {
     "name": "stdout",
     "output_type": "stream",
     "text": [
      "La moyenne pour  1000 Moyenne: 163.813\n"
     ]
    }
   ],
   "source": [
    "import random\n",
    "\n",
    "def simulate_maze(maze, start, end, max_steps=10000):\n",
    "    x, y = start # le debut \n",
    "    end_x, end_y = end\n",
    "    steps = 0 # indice de boucle pour l'incrementation\n",
    "    \n",
    "    while (x, y) != (end_x, end_y) and steps < max_steps:\n",
    "        direction = random.choice(['up', 'down', 'left', 'right']) # on choisi une direction au hazard\n",
    "        \n",
    "        new_x, new_y = x, y\n",
    "        if direction == 'up':\n",
    "            new_y += 1\n",
    "        elif direction == 'down':\n",
    "            new_y -= 1\n",
    "        elif direction == 'left':\n",
    "            new_x -= 1\n",
    "        elif direction == 'right':\n",
    "            new_x += 1\n",
    "        \n",
    "        # Проверка на выход за границы или стену\n",
    "        # On verifie la rentre pour granici de cterne\n",
    "\n",
    "        if (0 <= new_x < len(maze[0]) and \n",
    "            0 <= new_y < len(maze) and \n",
    "            maze[new_y][new_x] == 0):\n",
    "            x, y = new_x, new_y\n",
    "        \n",
    "        steps += 1\n",
    "    \n",
    "    return steps if (x, y) == (end_x, end_y) else max_steps\n",
    "\n",
    "# on cherche la moyene des evenements\n",
    "# Parametres nombre de simutalation\n",
    "def run_simulations(maze, start, end, num_simulations=1000):\n",
    "    total_steps = 0\n",
    "    for _ in range(num_simulations):\n",
    "        total_steps += simulate_maze(maze, start, end)\n",
    "    return total_steps / num_simulations\n",
    "\n",
    "# Un exemple de labinga 5 5\n",
    "maze = [\n",
    "    [0, 1, 0, 0, 0],\n",
    "    [0, 1, 0, 1, 0],\n",
    "    [0, 0, 0, 1, 0],\n",
    "    [0, 1, 1, 1, 0],\n",
    "    [0, 0, 0, 0, 0]\n",
    "]\n",
    "\n",
    "start = (0, 1) # x = 0 et y = 0\n",
    "end = (4, 4)  # (x, y) = (4, 4) x = 4, y = 4\n",
    "\n",
    "# le nombre de simulation \n",
    "num_simulations = 1000 \n",
    "\n",
    "# appel de la fonction\n",
    "average_steps = run_simulations(maze, start, end, num_simulations)\n",
    "print(f\"La moyenne pour  {num_simulations} Moyenne: {average_steps}\")"
   ]
  }
 ],
 "metadata": {
  "kernelspec": {
   "display_name": "Python 3",
   "language": "python",
   "name": "python3"
  },
  "language_info": {
   "codemirror_mode": {
    "name": "ipython",
    "version": 3
   },
   "file_extension": ".py",
   "mimetype": "text/x-python",
   "name": "python",
   "nbconvert_exporter": "python",
   "pygments_lexer": "ipython3",
   "version": "3.10.11"
  }
 },
 "nbformat": 4,
 "nbformat_minor": 5
}
